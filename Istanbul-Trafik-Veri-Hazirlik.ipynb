{
 "cells": [
  {
   "cell_type": "code",
   "execution_count": 1,
   "metadata": {},
   "outputs": [],
   "source": [
    "import pandas as pd\n",
    "import numpy as np\n",
    "import datetime"
   ]
  },
  {
   "cell_type": "code",
   "execution_count": 2,
   "metadata": {},
   "outputs": [],
   "source": [
    "# İBB verisinin csv olarak kaydedilmiş hali.\n",
    "datafile = \"./trafik-indeks-raporu.csv\"\n",
    "# 2019 yılı içindeki resmi tatilleri içeren dosya.\n",
    "resmitatilfile = \"./Resmi-Tatiller.csv\"\n",
    "# 2019 yılı içindeki resmi tatiller hariç okul tatillerini içeren dosya.\n",
    "okultatilfile = \"./Okul-Tatilleri.csv\""
   ]
  },
  {
   "cell_type": "code",
   "execution_count": 3,
   "metadata": {},
   "outputs": [],
   "source": [
    "df = pd.read_csv(datafile, sep=\";\")\n",
    "\n",
    "# İsimeri basitleştirelim.\n",
    "df.rename(columns={'Trafik İndeksi': 'Trafik', 'Trafik İndeksi Tarihi': 'Zaman Damgası'}, inplace=True)\n",
    "\n",
    "# Tarihler iki değişik formatta. Çoğu \"d.mm.yyyy  ss:dd\" formatında \n",
    "# (Excel'de saniyesi de var ama CSV'ye atarken onları atlamış).\n",
    "# Geri kalanı \"yyyy-mm-dd ss:dd:nn.nnn\" formatında. O yüzden to_datetime diyerek çevirmek lazım.\n",
    "# to_datetime birden çok formatı çevirebiliyor, ama dayfirst=True demezsek biraz kafası\n",
    "# karışabiliyor bu veriyle:)\n",
    "df['Zaman Damgası'] = pd.to_datetime(df['Zaman Damgası'], dayfirst=True)\n",
    "\n",
    "# Bazı yerlerde 255 değeri var. Yaklaşık 500 satır kadar. Bunlar belli ki hatalı veriler çünkü\n",
    "# bunlar dışında max değer 81. Dolayısıyla bunları np.nan olarak değiştirelim.\n",
    "df.replace({255: np.nan}, inplace=True)\n",
    "\n",
    "# Şu andaki endeks anlamlı bir endeks değil, ID'de aslında gerekli değil.\n",
    "# Gerçek ve yararlı olacak endeks gözlem zamanı. Bu yüzdem endeksi de 'Zaman Damgası' olarak değiştirelim.\n",
    "df.set_index('Zaman Damgası', inplace=True)\n",
    "df.drop('ID', axis=1, inplace=True)"
   ]
  },
  {
   "cell_type": "code",
   "execution_count": 4,
   "metadata": {},
   "outputs": [],
   "source": [
    "# Arada np.nan yaptığımız 255'lerin yerine zaman bazlı interplotationla tahmini değerler koyalım.\n",
    "df = df.interpolate(method='time')"
   ]
  },
  {
   "cell_type": "code",
   "execution_count": 5,
   "metadata": {
    "scrolled": true
   },
   "outputs": [],
   "source": [
    "# Sadece 2019'a bakalım. Slice ederken ilk değer dahil, son değer hariç:)\n",
    "df.sort_index(inplace=True)\n",
    "df = df.loc[datetime.date(year=2019, month=1, day=1):datetime.date(year=2020, month=1, day=1)]"
   ]
  },
  {
   "cell_type": "code",
   "execution_count": 6,
   "metadata": {},
   "outputs": [],
   "source": [
    "# Veriyi daha kolay kullanılır hale getirmek için ay, haftanın günü, ssat ve günden bağımsız zaman\n",
    "# kolonlarını ekleyelim.\n",
    "\n",
    "# Tam zamanın endekste kalması bazı grafikleri zorlaştıracak. Onu normal bir kolon haline getirelim.\n",
    "df.reset_index(inplace=True)\n",
    "df.rename(columns={'index': 'Zaman Damgası'}, inplace=True)\n",
    "\n",
    "# Tarihi (saatsiz) kendi sütununa koyalım.\n",
    "df['Tarih'] = df.apply(lambda tr: pd.datetime(tr['Zaman Damgası'].year, \n",
    "                                             tr['Zaman Damgası'].month,\n",
    "                                             tr['Zaman Damgası'].day), axis=1)\n",
    "\n",
    "# Bazı veriler \"yyyy-mm-dd ss:dd:nn.nnn\" formatındaydı. Onları datetime'a çevirirken milisaniye\n",
    "# detayını da alıyoruz. Gereksiz ve çirkin. Bu yüzden milisaniyelerden kurtarıp tüm zamanları\n",
    "# ss:dd:nn formatına çevirelim (string olacak bunlar mecburen).\n",
    "def resetms(tarih):\n",
    "    saat = tarih.time()\n",
    "    newtime = datetime.time(saat.hour, saat.minute, saat.second)\n",
    "    return newtime\n",
    "df['Saat'] = df.apply(lambda tr: resetms(tr['Zaman Damgası']), axis=1)\n",
    "\n",
    "# Ayları sayı olarak değil Türkçe ay adlarına çevirelim ve kendi sütununa koyalım.\n",
    "df['Ay'] = df.apply(lambda tr: tr['Zaman Damgası'].month, axis=1) \n",
    "df['Ay'] = pd.Categorical(df['Ay'], \n",
    "        categories=list(range(1,13)),\n",
    "        ordered=True)\n",
    "df['Ay'] = df['Ay'].cat.rename_categories(\n",
    "    ['Ocak', 'Şubat', 'Mart', 'Nisan', 'Mayıs', 'Haziran', \n",
    "    'Temmuz', 'Ağustos', 'Eylül', 'Ekim', 'Kasım', 'Aralık'])\n",
    "\n",
    "# Haftanın günlerini de çevirelim ve kendi sütununa koyalım.\n",
    "df['Gün'] = df.apply(lambda tr: tr['Zaman Damgası'].day_name(), axis=1) \n",
    "df['Gün'] = pd.Categorical(df['Gün'], \n",
    "        categories=[\"Monday\", \"Tuesday\", \"Wednesday\", \"Thursday\", \"Friday\", \"Saturday\", \"Sunday\"],\n",
    "        ordered=True)\n",
    "df['Gün'] = df['Gün'].cat.rename_categories(\n",
    "    [\"Pazartesi\", \"Salı\", \"Çarşamba\", \"Perşembe\", \"Cuma\", \"Cumartesi\", \"Pazar\"])\n",
    "\n",
    "# Ayın günlerini kendi sütununa koyalım..\n",
    "df['Ayın Günü'] = df.apply(lambda tr: tr['Tarih'].day, axis=1)\n",
    "\n",
    "# Zamanın saat kısmını (dakikasız ve saniyesiz)  kendi sütununa koyalım.\n",
    "df['Tam Saat'] = df.apply(lambda tr: tr['Zaman Damgası'].hour, axis=1)\n",
    "\n",
    "# Tatiileri de ekleyelim.\n",
    "resmitatil = pd.read_csv(resmitatilfile)\n",
    "resmitatil['Resmi Tatil'] = pd.to_datetime(resmitatil['Resmi Tatil'])\n",
    "resmitatil_lst = list(resmitatil['Resmi Tatil'])\n",
    "\n",
    "okultatil = pd.read_csv(okultatilfile)\n",
    "okultatil['Okul Tatilleri'] = pd.to_datetime(okultatil['Okul Tatilleri'])\n",
    "okultatil_lst = list(okultatil['Okul Tatilleri'])\n",
    "\n",
    "df['Resmi Tatil'] = df.apply(lambda tr: tr['Tarih'] in resmitatil_lst, axis=1)\n",
    "df['Okul Tatili'] = df.apply(lambda tr: tr['Tarih'] in okultatil_lst, axis=1)\n",
    "df['Haftasonu'] = df.apply(lambda tr: tr['Gün'] in [\"Cumartesi\", \"Pazar\"], axis=1)\n"
   ]
  },
  {
   "cell_type": "code",
   "execution_count": 7,
   "metadata": {},
   "outputs": [],
   "source": [
    "# Temizlenmiş veri bir kenarda dursun.\n",
    "df.to_csv(\"Istanbul_Trafik_Endeksleri_(2019)_(Temiz).csv\", index=False)\n",
    "df.to_pickle(\"Istanbul_Trafik_Endeksleri_(2019)_(Temiz).pkl\")"
   ]
  }
 ],
 "metadata": {
  "kernelspec": {
   "display_name": "Python 3.7 (stuff)",
   "language": "python",
   "name": "stuff"
  },
  "language_info": {
   "codemirror_mode": {
    "name": "ipython",
    "version": 3
   },
   "file_extension": ".py",
   "mimetype": "text/x-python",
   "name": "python",
   "nbconvert_exporter": "python",
   "pygments_lexer": "ipython3",
   "version": "3.7.1"
  }
 },
 "nbformat": 4,
 "nbformat_minor": 2
}
